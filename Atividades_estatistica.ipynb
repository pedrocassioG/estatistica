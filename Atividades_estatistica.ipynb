{
  "nbformat": 4,
  "nbformat_minor": 0,
  "metadata": {
    "colab": {
      "provenance": [],
      "authorship_tag": "ABX9TyOBqQgtdCk3MxUTwuTTD9G7",
      "include_colab_link": true
    },
    "kernelspec": {
      "name": "python3",
      "display_name": "Python 3"
    },
    "language_info": {
      "name": "python"
    }
  },
  "cells": [
    {
      "cell_type": "markdown",
      "metadata": {
        "id": "view-in-github",
        "colab_type": "text"
      },
      "source": [
        "<a href=\"https://colab.research.google.com/github/pedrocassioG/estatistica/blob/main/Atividades_estatistica.ipynb\" target=\"_parent\"><img src=\"https://colab.research.google.com/assets/colab-badge.svg\" alt=\"Open In Colab\"/></a>"
      ]
    },
    {
      "cell_type": "markdown",
      "source": [
        "Uma moeda, perfeitamente equilibrada, é lançada para o alto quatro vezes. Utilizando a distribuição binomial, obtenha a probabilidade de a moeda cair com a face coroa voltada para cima duas vezes."
      ],
      "metadata": {
        "id": "PN2g61aE941k"
      }
    },
    {
      "cell_type": "code",
      "execution_count": 1,
      "metadata": {
        "id": "Af-67N8o9kHw"
      },
      "outputs": [],
      "source": [
        "from scipy.stats import binom"
      ]
    },
    {
      "cell_type": "code",
      "source": [
        "numero_de_lados = 2\n",
        "p = 1/numero_de_lados\n",
        "\n",
        "binom.pmf(2, 4, p)"
      ],
      "metadata": {
        "colab": {
          "base_uri": "https://localhost:8080/"
        },
        "id": "qftKs620-BT0",
        "outputId": "4c20c3e4-124f-408b-8141-3159ec96f72c"
      },
      "execution_count": 2,
      "outputs": [
        {
          "output_type": "execute_result",
          "data": {
            "text/plain": [
              "np.float64(0.375)"
            ]
          },
          "metadata": {},
          "execution_count": 2
        }
      ]
    },
    {
      "cell_type": "markdown",
      "source": [
        "Um dado, perfeitamente equilibrado, é lançado para o alto dez vezes. Utilizando a distribuição binomial, obtenha a probabilidade de o dado cair com o número cinco voltado para cima pelo menos três vezes."
      ],
      "metadata": {
        "id": "-JxzKgUs-H1w"
      }
    },
    {
      "cell_type": "code",
      "source": [
        "from scipy.stats import binom\n",
        "\n",
        "p = 1 / 6\n",
        "n = 10\n",
        "\n",
        "print(\"{0:.2%}\".format(binom.sf(2, n, p)))"
      ],
      "metadata": {
        "colab": {
          "base_uri": "https://localhost:8080/"
        },
        "id": "_fab8br_-FFg",
        "outputId": "e53d60d2-b1e6-4214-f50a-d81dcae0f7d5"
      },
      "execution_count": 3,
      "outputs": [
        {
          "output_type": "stream",
          "name": "stdout",
          "text": [
            "22.48%\n"
          ]
        }
      ]
    },
    {
      "cell_type": "markdown",
      "source": [
        "Suponha que a probabilidade de um casal ter filhos com olhos azuis seja de 22%. Em 50 famílias, com 3 crianças cada uma, quantas podemos esperar que tenham dois filhos com olhos azuis?"
      ],
      "metadata": {
        "id": "8M2kn9uu-eUB"
      }
    },
    {
      "cell_type": "code",
      "source": [
        "from scipy.stats import binom\n",
        "\n",
        "p = 0.22\n",
        "n = 3\n",
        "k = 2\n",
        "N = 50\n",
        "\n",
        "probabilidade = binom.pmf(k, n, p)\n",
        "\n",
        "media = probabilidade * N\n",
        "print(f'{media:.2f}%')\n"
      ],
      "metadata": {
        "colab": {
          "base_uri": "https://localhost:8080/"
        },
        "id": "UXztiET1-emJ",
        "outputId": "d72a4b48-1435-413a-8ecd-ffcb1cfa4632"
      },
      "execution_count": 9,
      "outputs": [
        {
          "output_type": "stream",
          "name": "stdout",
          "text": [
            "5.66%\n"
          ]
        }
      ]
    },
    {
      "cell_type": "markdown",
      "source": [
        "O número médio de clientes que entram em uma padaria por hora é igual a 20. Obtenha a probabilidade de, na próxima hora, entrarem exatamente 25 clientes."
      ],
      "metadata": {
        "id": "3mt1omyl_Y3C"
      }
    },
    {
      "cell_type": "code",
      "source": [
        "from scipy.stats import poisson\n",
        "import numpy as np\n",
        "\n",
        "e = np.e\n",
        "media = 20\n",
        "k = 25\n",
        "\n",
        "probabilidade = poisson.pmf(k, media)\n",
        "print(f'{probabilidade:.2%}')\n"
      ],
      "metadata": {
        "colab": {
          "base_uri": "https://localhost:8080/"
        },
        "id": "YbVDvh8B-iFT",
        "outputId": "9cf523c2-540d-4bca-ced0-87cb5fa8e726"
      },
      "execution_count": 11,
      "outputs": [
        {
          "output_type": "stream",
          "name": "stdout",
          "text": [
            "4.46%\n"
          ]
        }
      ]
    },
    {
      "cell_type": "markdown",
      "source": [
        "A aplicação de uma prova de estatística em um concurso apresentou um conjunto de notas normalmente distribuídas. Verificou-se que o conjunto de notas tinha média 70 e desvio padrão de 5 pontos.\n",
        "\n",
        "Qual a probabilidade de um aluno, selecionado ao acaso, ter nota menor que 85?"
      ],
      "metadata": {
        "id": "ZbtMQDQGH73D"
      }
    },
    {
      "cell_type": "code",
      "source": [
        "from scipy.stats import norm\n",
        "\n",
        "media = 70\n",
        "desvio_padrao = 5\n",
        "Z = (85 - media) / desvio_padrao\n",
        "\n",
        "probabilidade = norm.cdf(Z)\n",
        "print(f'{probabilidade:.2%}')\n"
      ],
      "metadata": {
        "colab": {
          "base_uri": "https://localhost:8080/"
        },
        "id": "dc912G_g_f8W",
        "outputId": "6247bdd1-8771-48b7-d4e1-3971bd3273f9"
      },
      "execution_count": 13,
      "outputs": [
        {
          "output_type": "stream",
          "name": "stdout",
          "text": [
            "99.87%\n"
          ]
        }
      ]
    },
    {
      "cell_type": "markdown",
      "source": [
        "O faturamento diário de um motorista de aplicativo segue uma distribuição aproximadamente normal, com média 300,00 reais e desvio padrão igual a 50,00 reais. Obtenha as probabilidades de que, em um dia aleatório, o motorista ganhe:\n",
        "\n",
        "1) Entre  250,00 e  350,00\n",
        "\n",
        "2) Entre  400,00 e  500,00"
      ],
      "metadata": {
        "id": "S8yZKPFom9bC"
      }
    },
    {
      "cell_type": "code",
      "source": [
        "from scipy.stats import norm\n",
        "\n",
        "media = 300\n",
        "desvio_padrao = 50\n",
        "\n",
        "Z_superior_1 = (350 - media) / desvio_padrao\n",
        "Z_inferior_1 = (250 - media) / desvio_padrao\n",
        "\n",
        "probabilidade_1 = norm.cdf(Z_superior_1) - norm.cdf(Z_inferior_1)\n",
        "print(f'{probabilidade_1:.4f}')\n",
        "\n",
        "\n",
        "Z_superior_2 = (500 - media) / desvio_padrao\n",
        "Z_inferior_2 = (400 - media) / desvio_padrao\n",
        "\n",
        "probabilidade_2 = norm.cdf(Z_superior_2) - norm.cdf(Z_inferior_2)\n",
        "print(f'{probabilidade_2:.4f}')\n",
        "\n",
        "\n"
      ],
      "metadata": {
        "colab": {
          "base_uri": "https://localhost:8080/"
        },
        "id": "jrJiCJHXIBLC",
        "outputId": "5c1b636f-6574-4e5e-c429-23776a6a4c83"
      },
      "execution_count": 5,
      "outputs": [
        {
          "output_type": "stream",
          "name": "stdout",
          "text": [
            "0.6827%\n",
            "0.0227%\n"
          ]
        }
      ]
    },
    {
      "cell_type": "markdown",
      "source": [
        "O Inmetro verificou que as lâmpadas incandescentes da fabricante XPTO apresentam uma vida útil normalmente distribuída, com média igual a 720 dias e desvio padrão igual a 30 dias. Calcule a probabilidade de uma lâmpada, escolhida ao acaso, durar:\n",
        "\n",
        "1) Entre 650 e 750 dias\n",
        "\n",
        "2) Mais que 800 dias\n",
        "\n",
        "3) Menos que 700 dias\n"
      ],
      "metadata": {
        "id": "6Xwmn6zKyd12"
      }
    },
    {
      "cell_type": "code",
      "source": [
        "from scipy.stats import norm\n",
        "\n",
        "media = 720\n",
        "desvio_padrao = 30\n",
        "\n",
        "Z_superior_1 = (750 - media) / desvio_padrao\n",
        "Z_inferior_1 = (650 - media) / desvio_padrao\n",
        "\n",
        "probabilidade_1 = norm.cdf(Z_superior_1) - norm.cdf(Z_inferior_1)\n",
        "print(f'{probabilidade_1:.4f}')\n",
        "\n",
        "Z_1 = (800 - media) / desvio_padrao\n",
        "probabilidade_2 = norm.cdf(-Z_1)\n",
        "print(f'{probabilidade_2:.4f}')\n",
        "\n",
        "Z_2 = (700 - media) / desvio_padrao\n",
        "probabilidade_3 = norm.cdf(Z_2)\n",
        "print(f'{probabilidade_3:.4f}')"
      ],
      "metadata": {
        "colab": {
          "base_uri": "https://localhost:8080/"
        },
        "id": "rbfrsBofoF6N",
        "outputId": "8a9aab0c-adfb-4c0d-914f-20646d119eff"
      },
      "execution_count": 10,
      "outputs": [
        {
          "output_type": "stream",
          "name": "stdout",
          "text": [
            "0.8315\n",
            "0.0038\n",
            "0.2525\n"
          ]
        }
      ]
    },
    {
      "cell_type": "markdown",
      "source": [
        "Utilizando a tabela padronizada, ou o ferramental disponibilizado pelo Python, encontre a área sob a curva normal para os valores de Z abaixo:\n",
        "\n",
        "1) Z < 1,96\n",
        "\n",
        "2) Z > 2,15\n",
        "\n",
        "3) Z < -0,78\n",
        "\n",
        "4) Z > 0,59"
      ],
      "metadata": {
        "id": "9w4nR5Jj2BsR"
      }
    },
    {
      "cell_type": "code",
      "source": [
        "area1 = norm.cdf(1.96)\n",
        "print(f'{area1:.4f}')\n",
        "\n",
        "area2 = norm.cdf(-2.15)\n",
        "print(f'{area2:.4f}')\n",
        "\n",
        "area3 = norm.cdf(-0.78)\n",
        "print(f'{area3:.4f}')\n",
        "\n",
        "area4 = norm.cdf(-0.59)\n",
        "print(f'{area4:.4f}')"
      ],
      "metadata": {
        "colab": {
          "base_uri": "https://localhost:8080/"
        },
        "id": "A-K2mwT40yWC",
        "outputId": "bb54467b-0ecc-48e1-e6fe-d6db1f985c91"
      },
      "execution_count": 13,
      "outputs": [
        {
          "output_type": "stream",
          "name": "stdout",
          "text": [
            "0.9750\n",
            "0.0158\n",
            "0.2177\n",
            "0.2776\n"
          ]
        }
      ]
    },
    {
      "cell_type": "markdown",
      "source": [
        "Para estimar o valor médio gasto por cada cliente de uma grande rede de fast-food, foi selecionada uma amostra de 50 clientes.\n",
        "\n",
        "Assumindo que o valor do desvio padrão da população seja de R$ 6,00 e que esta população se distribui normalmente, obtenha a margem de erro desta estimativa para um nível de confiança de 95%."
      ],
      "metadata": {
        "id": "_vGX5DVoSU5L"
      }
    },
    {
      "cell_type": "code",
      "source": [
        "from scipy.stats import norm\n",
        "import numpy as np\n",
        "\n",
        "n = 50\n",
        "sigma = 6\n",
        "nivel_confianca = 0.95\n",
        "\n",
        "\n",
        "z = norm.ppf(0.5 + nivel_confianca/2)\n",
        "raiz_de_n = np.sqrt(n)\n",
        "e = z * (sigma / raiz_de_n)\n",
        "\n",
        "e"
      ],
      "metadata": {
        "colab": {
          "base_uri": "https://localhost:8080/"
        },
        "id": "1jbjXk3u2V87",
        "outputId": "d8fac66c-daa1-42a7-dd06-4d9f4387ab9c"
      },
      "execution_count": 9,
      "outputs": [
        {
          "output_type": "execute_result",
          "data": {
            "text/plain": [
              "np.float64(1.6630845892196133)"
            ]
          },
          "metadata": {},
          "execution_count": 9
        }
      ]
    },
    {
      "cell_type": "markdown",
      "source": [
        "Uma amostra aleatória simples de 1976 itens de uma população normalmente distribuída, com desvio padrão populacional igual a 11, resultou em uma média amostral de 28.\n",
        "\n",
        "Qual o intervalo de confiança de 90% para a média populacional?"
      ],
      "metadata": {
        "id": "7gqKeOqmThj5"
      }
    },
    {
      "cell_type": "code",
      "source": [
        "n = 1976\n",
        "sigma = 11\n",
        "media_amostra = 28\n",
        "confianca = 0.90\n",
        "\n",
        "raiz_de_n = np.sqrt(n)\n",
        "z = norm.ppf(0.5 + confianca/2)\n",
        "\n",
        "intervalo = norm.interval(confianca, loc=media_amostra, scale=(sigma / raiz_de_n))\n",
        "print(intervalo)"
      ],
      "metadata": {
        "colab": {
          "base_uri": "https://localhost:8080/"
        },
        "id": "rrZEb5rBSnL2",
        "outputId": "35b34a6b-3647-4bcd-cc85-bcbd2c8c824f"
      },
      "execution_count": 12,
      "outputs": [
        {
          "output_type": "stream",
          "name": "stdout",
          "text": [
            "(np.float64(27.592969951356466), np.float64(28.407030048643534))\n"
          ]
        }
      ]
    },
    {
      "cell_type": "markdown",
      "source": [
        "O valor do gasto médio dos clientes de uma loja de conveniência é de R 45,50. Assumindo que o desvio padrão dos gastos é igual a R 15,00, qual deve ser o tamanho da amostra para estimarmos a média populacional com um nível de significância de 10%?\n",
        "\n",
        "Considere que o erro máximo aceitável seja de 10%."
      ],
      "metadata": {
        "id": "wz58pT3pYxQ4"
      }
    },
    {
      "cell_type": "code",
      "source": [
        "gasto_medio = 45.00\n",
        "sigma = 15.00\n",
        "confianca = 0.90\n",
        "e = 4.55\n",
        "\n",
        "z = norm.ppf(0.5 + confianca/2)\n",
        "\n",
        "n = (z * (sigma/e))**2\n",
        "n.round()"
      ],
      "metadata": {
        "colab": {
          "base_uri": "https://localhost:8080/"
        },
        "id": "QWcxU2FcUWGS",
        "outputId": "347da677-f5e8-48b8-ff45-06cf96041502"
      },
      "execution_count": 13,
      "outputs": [
        {
          "output_type": "execute_result",
          "data": {
            "text/plain": [
              "np.float64(29.0)"
            ]
          },
          "metadata": {},
          "execution_count": 13
        }
      ]
    },
    {
      "cell_type": "markdown",
      "source": [
        "Um fabricante de farinha verificou que, em uma amostra aleatória formada por 200 sacos de 25 kg de um lote formado por 2.000 sacos, apresentou um desvio padrão amostral do peso igual a 480 g.\n",
        "\n",
        "Considerando um erro máximo associado à média populacional igual a 0,3 kg e um nível de confiança igual a 95%, qual tamanho de amostra deveria ser selecionado para obtermos uma estimativa confiável do parâmetro populacional?"
      ],
      "metadata": {
        "id": "d1l-pQTXdwSv"
      }
    },
    {
      "cell_type": "code",
      "source": [
        "N = 2000\n",
        "s = 0.48\n",
        "confianca= 0.95\n",
        "e = 0.3\n",
        "\n",
        "z = norm.ppf( 0.5 + confianca/2)\n",
        "\n",
        "n = ((z**2)*(s**2)*(N))/((z**2)*(s**2) + (e**2)*(N-1))\n",
        "n\n"
      ],
      "metadata": {
        "colab": {
          "base_uri": "https://localhost:8080/"
        },
        "id": "pBLiKVHlZZ1h",
        "outputId": "4c79ab0d-7664-4d08-a4af-8ce9618172ed"
      },
      "execution_count": 17,
      "outputs": [
        {
          "output_type": "execute_result",
          "data": {
            "text/plain": [
              "np.float64(9.790887571738983)"
            ]
          },
          "metadata": {},
          "execution_count": 17
        }
      ]
    },
    {
      "cell_type": "code",
      "source": [],
      "metadata": {
        "id": "P31wgmB2eSb-"
      },
      "execution_count": null,
      "outputs": []
    }
  ]
}